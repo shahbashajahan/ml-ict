{
  "nbformat": 4,
  "nbformat_minor": 0,
  "metadata": {
    "colab": {
      "provenance": [],
      "authorship_tag": "ABX9TyMEkObEvaAApUnAdx68Lw+0",
      "include_colab_link": true
    },
    "kernelspec": {
      "name": "python3",
      "display_name": "Python 3"
    },
    "language_info": {
      "name": "python"
    }
  },
  "cells": [
    {
      "cell_type": "markdown",
      "metadata": {
        "id": "view-in-github",
        "colab_type": "text"
      },
      "source": [
        "<a href=\"https://colab.research.google.com/github/shahbashajahan/ml-ict/blob/main/ict01.ipynb\" target=\"_parent\"><img src=\"https://colab.research.google.com/assets/colab-badge.svg\" alt=\"Open In Colab\"/></a>"
      ]
    },
    {
      "cell_type": "code",
      "execution_count": null,
      "metadata": {
        "id": "Ibl7uoYgoaaA"
      },
      "outputs": [],
      "source": []
    },
    {
      "cell_type": "code",
      "source": [
        "class calculator():\n",
        "  def opn(self,a):\n",
        "    return eval(a)\n",
        "\n",
        "calc = calculator()\n",
        "print(\".......calculator........\")\n",
        "op =input(\"enter the operation \")\n",
        "\n",
        "x=calc.opn(op)\n",
        "print(\"result = \", str(x))\n",
        "\n"
      ],
      "metadata": {
        "colab": {
          "base_uri": "https://localhost:8080/"
        },
        "id": "78aJVh-hoeCC",
        "outputId": "c3f74b1d-c9af-4818-b701-899c77a1f5b7"
      },
      "execution_count": 26,
      "outputs": [
        {
          "output_type": "stream",
          "name": "stdout",
          "text": [
            ".......calculator........\n",
            "enter the operation 2**3\n",
            "result =  8\n"
          ]
        }
      ]
    }
  ]
}